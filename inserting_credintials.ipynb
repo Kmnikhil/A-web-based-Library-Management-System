{
 "cells": [
  {
   "cell_type": "code",
   "execution_count": null,
   "metadata": {},
   "outputs": [
    {
     "name": "stdout",
     "output_type": "stream",
     "text": [
      "Collecting psycopg2\n",
      "  Downloading psycopg2-2.9.10-cp310-cp310-win_amd64.whl.metadata (5.0 kB)\n",
      "Downloading psycopg2-2.9.10-cp310-cp310-win_amd64.whl (1.2 MB)\n",
      "   ---------------------------------------- 0.0/1.2 MB ? eta -:--:--\n",
      "   --------- ------------------------------ 0.3/1.2 MB ? eta -:--:--\n",
      "   ------------------------------------ --- 1.0/1.2 MB 3.4 MB/s eta 0:00:01\n",
      "   ---------------------------------------- 1.2/1.2 MB 3.2 MB/s eta 0:00:00\n",
      "Installing collected packages: psycopg2\n",
      "Successfully installed psycopg2-2.9.10\n"
     ]
    }
   ],
   "source": [
    "# !pip install psycopg2"
   ]
  },
  {
   "cell_type": "code",
   "execution_count": null,
   "metadata": {},
   "outputs": [
    {
     "name": "stdout",
     "output_type": "stream",
     "text": [
      "Collecting asyncpg\n",
      "  Downloading asyncpg-0.30.0-cp310-cp310-win_amd64.whl.metadata (5.2 kB)\n",
      "Collecting async-timeout>=4.0.3 (from asyncpg)\n",
      "  Downloading async_timeout-5.0.1-py3-none-any.whl.metadata (5.1 kB)\n",
      "Downloading asyncpg-0.30.0-cp310-cp310-win_amd64.whl (625 kB)\n",
      "   ---------------------------------------- 0.0/625.8 kB ? eta -:--:--\n",
      "   ---------------------------------------- 625.8/625.8 kB 7.7 MB/s eta 0:00:00\n",
      "Downloading async_timeout-5.0.1-py3-none-any.whl (6.2 kB)\n",
      "Installing collected packages: async-timeout, asyncpg\n",
      "Successfully installed async-timeout-5.0.1 asyncpg-0.30.0\n"
     ]
    }
   ],
   "source": [
    "# !pip install asyncpg"
   ]
  },
  {
   "cell_type": "code",
   "execution_count": null,
   "metadata": {},
   "outputs": [
    {
     "name": "stdout",
     "output_type": "stream",
     "text": [
      "Collecting passlib\n",
      "  Downloading passlib-1.7.4-py2.py3-none-any.whl.metadata (1.7 kB)\n",
      "Downloading passlib-1.7.4-py2.py3-none-any.whl (525 kB)\n",
      "   ---------------------------------------- 0.0/525.6 kB ? eta -:--:--\n",
      "   ---------------------------------------  524.3/525.6 kB 3.4 MB/s eta 0:00:01\n",
      "   ---------------------------------------- 525.6/525.6 kB 2.8 MB/s eta 0:00:00\n",
      "Installing collected packages: passlib\n",
      "Successfully installed passlib-1.7.4\n"
     ]
    }
   ],
   "source": [
    "# !pip install passlib"
   ]
  },
  {
   "cell_type": "code",
   "execution_count": null,
   "metadata": {},
   "outputs": [
    {
     "name": "stdout",
     "output_type": "stream",
     "text": [
      "Collecting bcrypt\n",
      "  Using cached bcrypt-4.2.1-cp39-abi3-win_amd64.whl.metadata (10 kB)\n",
      "Using cached bcrypt-4.2.1-cp39-abi3-win_amd64.whl (153 kB)\n",
      "Installing collected packages: bcrypt\n",
      "Successfully installed bcrypt-4.2.1\n"
     ]
    }
   ],
   "source": [
    "# !pip install bcrypt"
   ]
  },
  {
   "cell_type": "code",
   "execution_count": 2,
   "metadata": {},
   "outputs": [],
   "source": [
    "import passlib"
   ]
  },
  {
   "cell_type": "code",
   "execution_count": 13,
   "metadata": {},
   "outputs": [],
   "source": [
    "import psycopg2\n",
    "\n",
    "# Connect to PostgreSQL\n",
    "conn = psycopg2.connect(\n",
    "    host=\"localhost\",\n",
    "    database=\"sql_project_p3\",\n",
    "    user=\"postgres\",\n",
    "    password=\"admin123\"\n",
    ")\n"
   ]
  },
  {
   "cell_type": "code",
   "execution_count": 15,
   "metadata": {},
   "outputs": [
    {
     "ename": "InterfaceError",
     "evalue": "connection already closed",
     "output_type": "error",
     "traceback": [
      "\u001b[1;31m---------------------------------------------------------------------------\u001b[0m",
      "\u001b[1;31mInterfaceError\u001b[0m                            Traceback (most recent call last)",
      "Cell \u001b[1;32mIn[15], line 2\u001b[0m\n\u001b[0;32m      1\u001b[0m \u001b[38;5;66;03m# Create a cursor object to execute SQL queries\u001b[39;00m\n\u001b[1;32m----> 2\u001b[0m cursor \u001b[38;5;241m=\u001b[39m \u001b[43mconn\u001b[49m\u001b[38;5;241;43m.\u001b[39;49m\u001b[43mcursor\u001b[49m\u001b[43m(\u001b[49m\u001b[43m)\u001b[49m\n\u001b[0;32m      4\u001b[0m \u001b[38;5;66;03m# Execute a sample query\u001b[39;00m\n\u001b[0;32m      5\u001b[0m cursor\u001b[38;5;241m.\u001b[39mexecute(\u001b[38;5;124m\"\u001b[39m\u001b[38;5;124mSELECT emp_id, user_name, password_hash FROM employees;\u001b[39m\u001b[38;5;124m\"\u001b[39m)\n",
      "\u001b[1;31mInterfaceError\u001b[0m: connection already closed"
     ]
    }
   ],
   "source": [
    "# Create a cursor object to execute SQL queries\n",
    "cursor = conn.cursor()\n",
    "\n",
    "# Execute a sample query\n",
    "cursor.execute(\"SELECT emp_id, user_name, password_hash FROM employees;\")\n",
    "\n",
    "# Fetch all rows\n",
    "rows = cursor.fetchall()\n",
    "\n",
    "# Print data\n",
    "for row in rows:\n",
    "    print(row)\n",
    "\n",
    "# Close connection\n",
    "cursor.close()\n",
    "conn.close()"
   ]
  },
  {
   "cell_type": "code",
   "execution_count": null,
   "metadata": {},
   "outputs": [],
   "source": []
  },
  {
   "cell_type": "code",
   "execution_count": 1,
   "metadata": {},
   "outputs": [
    {
     "name": "stderr",
     "output_type": "stream",
     "text": [
      "(trapped) error reading bcrypt version\n",
      "Traceback (most recent call last):\n",
      "  File \"c:\\Users\\kmnik\\anaconda3\\envs\\env_auc\\lib\\site-packages\\passlib\\handlers\\bcrypt.py\", line 620, in _load_backend_mixin\n",
      "    version = _bcrypt.__about__.__version__\n",
      "AttributeError: module 'bcrypt' has no attribute '__about__'\n"
     ]
    }
   ],
   "source": [
    "from passlib.context import CryptContext\n",
    "import psycopg2\n",
    "\n",
    "# Connect to PostgreSQL\n",
    "conn = psycopg2.connect(\n",
    "    host=\"localhost\",\n",
    "    database=\"sql_project_p3\",\n",
    "    user=\"postgres\",\n",
    "    password=\"admin123\"\n",
    ")\n",
    "# Setup password hashing\n",
    "pwd_context = CryptContext(schemes=[\"bcrypt\"], deprecated=\"auto\")\n",
    "\n",
    "cursor = conn.cursor()\n",
    "\n",
    "# Employee credentials\n",
    "employees = [\n",
    "    ('E101', 'johe101', 'joh101'),\n",
    "    ('E102', 'jane102', 'jan102'),\n",
    "    ('E103', 'mike103', 'mik103'),\n",
    "    ('E104', 'emie104', 'emi104'),\n",
    "    ('E105', 'sare105', 'sar105'),\n",
    "    ('E106', 'mice106', 'mic106'),\n",
    "    ('E107', 'mice107', 'mic107'),\n",
    "    ('E108', 'jese108', 'jes108'),\n",
    "    ('E109', 'dane109', 'dan109'),\n",
    "    ('E110', 'laue110', 'lau110'),\n",
    "    ('E111', 'chre111', 'chr111')\n",
    "]\n",
    "\n",
    "# Insert hashed passwords\n",
    "for emp_id, username, password in employees:\n",
    "    hashed_password = pwd_context.hash(password)\n",
    "    cursor.execute(\"UPDATE employees SET user_name = %s, password_hash = %s WHERE emp_id = %s\", \n",
    "                   (username, hashed_password, emp_id))\n",
    "\n",
    "conn.commit()\n",
    "cursor.close()\n",
    "conn.close()\n"
   ]
  },
  {
   "cell_type": "code",
   "execution_count": 11,
   "metadata": {},
   "outputs": [
    {
     "name": "stdout",
     "output_type": "stream",
     "text": [
      "('$2b$12$udJLDgoO68L5mRKRH6M8..sigttGp9zTJ7HzFvZHzS/21JKncYsM.',)\n",
      "Login successful\n",
      "('$2b$12$aGisPtlIHAhqhanmGcJ.J.aJhGgaao5cVvlAPzKEk0gxzc3YngGH6',)\n",
      "Invalid credentials\n"
     ]
    }
   ],
   "source": [
    "import psycopg2\n",
    "from passlib.context import CryptContext\n",
    "\n",
    "# Initialize bcrypt password hashing\n",
    "pwd_context = CryptContext(schemes=[\"bcrypt\"], deprecated=\"auto\")\n",
    "\n",
    "def verify_employee_login(username, entered_password):\n",
    "    try:\n",
    "        # Connect to PostgreSQL\n",
    "        conn = psycopg2.connect(\n",
    "        host=\"localhost\",\n",
    "        database=\"sql_project_p3\",\n",
    "        user=\"postgres\",\n",
    "        password=\"admin123\"\n",
    "        )\n",
    "        cursor = conn.cursor()\n",
    "\n",
    "        # Fetch employee record by username\n",
    "        cursor.execute(\"SELECT password_hash FROM employees WHERE user_name = %s\", (username,))\n",
    "        user_record = cursor.fetchone()\n",
    "        print(user_record)\n",
    "        # Close database connection\n",
    "        cursor.close()\n",
    "        conn.close()\n",
    "\n",
    "        # Check if user exists\n",
    "        if not user_record:\n",
    "            return \"User not found\"\n",
    "\n",
    "        stored_hash = user_record[0]  # Get the password hash from the tuple\n",
    "\n",
    "        # Verify password\n",
    "        if pwd_context.verify(entered_password, stored_hash):\n",
    "            return \"Login successful\"\n",
    "        else:\n",
    "            return \"Invalid credentials\"\n",
    "\n",
    "    except Exception as e:\n",
    "        return f\"Database error: {str(e)}\"\n",
    "\n",
    "# Test login\n",
    "print(verify_employee_login(\"johe101\", \"joh101\"))  # ✅ Should return \"Login successful\"\n",
    "print(verify_employee_login(\"jane102\", \"wrongpass\"))    # ❌ Should return \"Invalid credentials\"\n"
   ]
  },
  {
   "cell_type": "code",
   "execution_count": 7,
   "metadata": {},
   "outputs": [],
   "source": [
    "\n",
    "import psycopg2\n",
    "DB_CONFIG = {\n",
    "    \"host\" : \"localhost\",\n",
    "    \"database\" : \"sql_project_p3\",\n",
    "    \"user\" : \"postgres\",\n",
    "    \"password\" : \"admin123\"\n",
    "}\n",
    "\n",
    "def get_db_connection():\n",
    "    \"\"\"Establish connection to PostgreSQL\"\"\"\n",
    "    return psycopg2.connect(**DB_CONFIG)\n",
    "# class IssueBookRequest(BaseModel):\n",
    "#     issued_id: str\n",
    "#     member_id: str\n",
    "#     book_isbn: str\n",
    "#     employee_id: str\n",
    "\n",
    "def issue_book(issued_id,member_id,book_isbn, employee_id):\n",
    "    \"\"\"Issue a book by calling stored procedure add_issue_book()\"\"\"\n",
    "# try:\n",
    "    conn = get_db_connection()\n",
    "    cursor = conn.cursor()\n",
    "    \n",
    "    # cursor.execute(\"CALL add_issue_book(%s, %s, %s, %s)\", \n",
    "    #                 (issued_id,member_id,book_isbn, employee_id))\n",
    "    # Fetch book title\n",
    "    cursor.execute(\"SELECT book_title FROM books WHERE isbn = %s\", \n",
    "                (book_isbn,))  \n",
    "    book_title = cursor.fetchone()\n",
    "    print(book_title[0])\n",
    "    conn.commit()\n",
    "\n",
    "    cursor.close()\n",
    "    conn.close()\n",
    "    \n",
    "    return {\"message\": f\"The Book **{book_title[0]}** issued successfully\"}\n",
    "    \n",
    "    # except Exception as e:\n",
    "    #     raise HTTPException(status_code=500, detail=str(e))\n"
   ]
  },
  {
   "cell_type": "code",
   "execution_count": 8,
   "metadata": {},
   "outputs": [
    {
     "name": "stdout",
     "output_type": "stream",
     "text": [
      "One Hundred Years of Solitude\n"
     ]
    },
    {
     "data": {
      "text/plain": [
       "{'message': 'The Book **One Hundred Years of Solitude** issued successfully'}"
      ]
     },
     "execution_count": 8,
     "metadata": {},
     "output_type": "execute_result"
    }
   ],
   "source": [
    "issue_book(\n",
    "\"IS146\",\n",
    "\"C106\",\n",
    "\"978-0-14-118776-1\",\n",
    "\"E104\"\n",
    ")"
   ]
  },
  {
   "cell_type": "code",
   "execution_count": 15,
   "metadata": {},
   "outputs": [],
   "source": [
    "def return_book(return_id, issued_id):\n",
    "    \"\"\"Return a book by calling stored procedure add_return_status()\"\"\"\n",
    "    # try:\n",
    "    conn = get_db_connection()\n",
    "    cursor = conn.cursor()\n",
    "    \n",
    "    cursor.execute(\"CALL add_return_status(%s, %s)\", \n",
    "                    (return_id, issued_id))\n",
    "    \n",
    "    conn.commit()\n",
    "    cursor.close()\n",
    "    conn.close()\n",
    "    \n",
    "    return {\"message\": \"Book returned successfully\"}"
   ]
  },
  {
   "cell_type": "code",
   "execution_count": 16,
   "metadata": {},
   "outputs": [
    {
     "data": {
      "text/plain": [
       "{'message': 'Book returned successfully'}"
      ]
     },
     "execution_count": 16,
     "metadata": {},
     "output_type": "execute_result"
    }
   ],
   "source": [
    "return_book('RS141','IS141')"
   ]
  },
  {
   "cell_type": "code",
   "execution_count": 41,
   "metadata": {},
   "outputs": [],
   "source": [
    "def get_book_status(book_isbn: str):\n",
    "    \"\"\"Check if a book is available or not\"\"\"\n",
    "# try:\n",
    "    conn = get_db_connection()\n",
    "    cursor = conn.cursor()\n",
    "    \n",
    "    cursor.execute(\"SELECT status,book_title FROM books WHERE isbn = %s\", (book_isbn,))\n",
    "    book_status = cursor.fetchone()\n",
    "    print(book_status)\n",
    "    cursor.close()\n",
    "    conn.close()\n",
    "    \n",
    "    if book_status[0] == 'yes':\n",
    "        # print('AVAILABLE')\n",
    "        return {\"status:\":[f\"**The Book**\",book_status[1],'**available**']}  # 'available' or 'not available'\n",
    "    elif book_status[0] == 'no':\n",
    "        return {\"status\": \"Book is not Available\"} "
   ]
  },
  {
   "cell_type": "code",
   "execution_count": 42,
   "metadata": {},
   "outputs": [
    {
     "name": "stdout",
     "output_type": "stream",
     "text": [
      "('yes', 'Harry Potter and the Sorcerers Stone')\n"
     ]
    },
    {
     "data": {
      "text/plain": [
       "{'status:': ['**The Book**',\n",
       "  'Harry Potter and the Sorcerers Stone',\n",
       "  '**available**']}"
      ]
     },
     "execution_count": 42,
     "metadata": {},
     "output_type": "execute_result"
    }
   ],
   "source": [
    "get_book_status(\"978-0-679-76489-8\")"
   ]
  },
  {
   "cell_type": "code",
   "execution_count": null,
   "metadata": {},
   "outputs": [],
   "source": [
    "import streamlit as st\n",
    "import psycopg2\n",
    "from passlib.context import CryptContext\n",
    "import requests\n",
    "\n",
    "# FastAPI backend URL\n",
    "API_URL = \"http://127.0.0.1:8000\"\n",
    "\n",
    "# Streamlit UI\n",
    "st.title(\"📚 Library Management System\")\n",
    "\n",
    "# Select an action\n",
    "action = st.selectbox(\"Select Action\", [\"Issue a Book\", \"Return a Book\", \"Check Book Status\"])\n",
    "\n",
    "if action == \"Issue a Book\":\n",
    "    st.subheader(\"📖 Issue a Book\")\n",
    "    issued_id = st.text_input(\"Issued ID\")\n",
    "    member_id = st.text_input(\"Member ID\")\n",
    "    book_isbn = st.text_input(\"Book ISBN\")\n",
    "    employee_id = st.text_input(\"Employee ID\")\n",
    "\n",
    "    if st.button(\"Issue Book\"):\n",
    "        payload = {\n",
    "            \"issued_id\": issued_id,\n",
    "            \"member_id\": member_id,\n",
    "            \"book_isbn\": book_isbn,\n",
    "            \"employee_id\": employee_id\n",
    "        }\n",
    "        response = requests.post(f\"{API_URL}/issue_book\", json=payload)\n",
    "        st.success(response.json()[\"message\"]) if response.status_code == 200 else st.error(response.json()[\"error\"])\n",
    "\n",
    "elif action == \"Return a Book\":\n",
    "    st.subheader(\"🔄 Return a Book\")\n",
    "    return_id = st.text_input(\"Return ID\")\n",
    "    issued_id = st.text_input(\"Issued ID\")\n",
    "\n",
    "    if st.button(\"Return Book\"):\n",
    "        payload = {\n",
    "            \"return_id\": return_id,\n",
    "            \"issued_id\": issued_id\n",
    "        }\n",
    "        response = requests.post(f\"{API_URL}/return_book\", json=payload)\n",
    "        st.success(response.json()[\"message\"]) if response.status_code == 200 else st.error(response.json()[\"error\"])\n",
    "\n",
    "elif action == \"Check Book Status\":\n",
    "    st.subheader(\"✅ Check Book Status\")\n",
    "    book_isbn = st.text_input(\"Enter Book ISBN\")\n",
    "\n",
    "    if st.button(\"Check Status\"):\n",
    "        response = requests.get(f\"{API_URL}/book_status/{book_isbn}\")\n",
    "        if response.status_code == 200:\n",
    "            st.info(f\"Book Status: {response.json()['status']}\")\n",
    "        else:\n",
    "            st.error(response.json()[\"error\"])\n"
   ]
  }
 ],
 "metadata": {
  "kernelspec": {
   "display_name": "env_auc",
   "language": "python",
   "name": "python3"
  },
  "language_info": {
   "codemirror_mode": {
    "name": "ipython",
    "version": 3
   },
   "file_extension": ".py",
   "mimetype": "text/x-python",
   "name": "python",
   "nbconvert_exporter": "python",
   "pygments_lexer": "ipython3",
   "version": "3.10.15"
  }
 },
 "nbformat": 4,
 "nbformat_minor": 2
}
