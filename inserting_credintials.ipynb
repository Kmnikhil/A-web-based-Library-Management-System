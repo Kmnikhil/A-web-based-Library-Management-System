{
 "cells": [
  {
   "cell_type": "code",
   "execution_count": null,
   "metadata": {},
   "outputs": [
    {
     "name": "stdout",
     "output_type": "stream",
     "text": [
      "Collecting psycopg2\n",
      "  Downloading psycopg2-2.9.10-cp310-cp310-win_amd64.whl.metadata (5.0 kB)\n",
      "Downloading psycopg2-2.9.10-cp310-cp310-win_amd64.whl (1.2 MB)\n",
      "   ---------------------------------------- 0.0/1.2 MB ? eta -:--:--\n",
      "   --------- ------------------------------ 0.3/1.2 MB ? eta -:--:--\n",
      "   ------------------------------------ --- 1.0/1.2 MB 3.4 MB/s eta 0:00:01\n",
      "   ---------------------------------------- 1.2/1.2 MB 3.2 MB/s eta 0:00:00\n",
      "Installing collected packages: psycopg2\n",
      "Successfully installed psycopg2-2.9.10\n"
     ]
    }
   ],
   "source": [
    "# !pip install psycopg2"
   ]
  },
  {
   "cell_type": "code",
   "execution_count": null,
   "metadata": {},
   "outputs": [
    {
     "name": "stdout",
     "output_type": "stream",
     "text": [
      "Collecting asyncpg\n",
      "  Downloading asyncpg-0.30.0-cp310-cp310-win_amd64.whl.metadata (5.2 kB)\n",
      "Collecting async-timeout>=4.0.3 (from asyncpg)\n",
      "  Downloading async_timeout-5.0.1-py3-none-any.whl.metadata (5.1 kB)\n",
      "Downloading asyncpg-0.30.0-cp310-cp310-win_amd64.whl (625 kB)\n",
      "   ---------------------------------------- 0.0/625.8 kB ? eta -:--:--\n",
      "   ---------------------------------------- 625.8/625.8 kB 7.7 MB/s eta 0:00:00\n",
      "Downloading async_timeout-5.0.1-py3-none-any.whl (6.2 kB)\n",
      "Installing collected packages: async-timeout, asyncpg\n",
      "Successfully installed async-timeout-5.0.1 asyncpg-0.30.0\n"
     ]
    }
   ],
   "source": [
    "# !pip install asyncpg"
   ]
  },
  {
   "cell_type": "code",
   "execution_count": null,
   "metadata": {},
   "outputs": [
    {
     "name": "stdout",
     "output_type": "stream",
     "text": [
      "Collecting passlib\n",
      "  Downloading passlib-1.7.4-py2.py3-none-any.whl.metadata (1.7 kB)\n",
      "Downloading passlib-1.7.4-py2.py3-none-any.whl (525 kB)\n",
      "   ---------------------------------------- 0.0/525.6 kB ? eta -:--:--\n",
      "   ---------------------------------------  524.3/525.6 kB 3.4 MB/s eta 0:00:01\n",
      "   ---------------------------------------- 525.6/525.6 kB 2.8 MB/s eta 0:00:00\n",
      "Installing collected packages: passlib\n",
      "Successfully installed passlib-1.7.4\n"
     ]
    }
   ],
   "source": [
    "# !pip install passlib"
   ]
  },
  {
   "cell_type": "code",
   "execution_count": null,
   "metadata": {},
   "outputs": [
    {
     "name": "stdout",
     "output_type": "stream",
     "text": [
      "Collecting bcrypt\n",
      "  Using cached bcrypt-4.2.1-cp39-abi3-win_amd64.whl.metadata (10 kB)\n",
      "Using cached bcrypt-4.2.1-cp39-abi3-win_amd64.whl (153 kB)\n",
      "Installing collected packages: bcrypt\n",
      "Successfully installed bcrypt-4.2.1\n"
     ]
    }
   ],
   "source": [
    "# !pip install bcrypt"
   ]
  },
  {
   "cell_type": "code",
   "execution_count": 13,
   "metadata": {},
   "outputs": [],
   "source": [
    "import psycopg2\n",
    "\n",
    "# Connect to PostgreSQL\n",
    "conn = psycopg2.connect(\n",
    "    host=\"localhost\",\n",
    "    database=\"sql_project_p3\",\n",
    "    user=\"postgres\",\n",
    "    password=\"admin123\"\n",
    ")\n"
   ]
  },
  {
   "cell_type": "code",
   "execution_count": null,
   "metadata": {},
   "outputs": [],
   "source": [
    "# # Create a cursor object to execute SQL queries\n",
    "# cursor = conn.cursor()\n",
    "\n",
    "# # Execute a sample query\n",
    "# cursor.execute(\"SELECT emp_id, user_name, password_hash FROM employees;\")\n",
    "\n",
    "# # Fetch all rows\n",
    "# rows = cursor.fetchall()\n",
    "\n",
    "# # Print data\n",
    "# for row in rows:\n",
    "#     print(row)\n",
    "\n",
    "# # Close connection\n",
    "# cursor.close()\n",
    "# conn.close()"
   ]
  },
  {
   "cell_type": "code",
   "execution_count": 1,
   "metadata": {},
   "outputs": [
    {
     "name": "stderr",
     "output_type": "stream",
     "text": [
      "(trapped) error reading bcrypt version\n",
      "Traceback (most recent call last):\n",
      "  File \"c:\\Users\\kmnik\\anaconda3\\envs\\env_auc\\lib\\site-packages\\passlib\\handlers\\bcrypt.py\", line 620, in _load_backend_mixin\n",
      "    version = _bcrypt.__about__.__version__\n",
      "AttributeError: module 'bcrypt' has no attribute '__about__'\n"
     ]
    }
   ],
   "source": [
    "from passlib.context import CryptContext\n",
    "import psycopg2\n",
    "\n",
    "# Connect to PostgreSQL\n",
    "conn = psycopg2.connect(\n",
    "    host=\"localhost\",\n",
    "    database=\"sql_project_p3\",\n",
    "    user=\"postgres\",\n",
    "    password=\"admin123\"\n",
    ")\n",
    "# Setup password hashing\n",
    "pwd_context = CryptContext(schemes=[\"bcrypt\"], deprecated=\"auto\")\n",
    "\n",
    "cursor = conn.cursor()\n",
    "\n",
    "# Employee credentials\n",
    "employees = [\n",
    "    ('E101', 'johe101', 'joh101'),\n",
    "    ('E102', 'jane102', 'jan102'),\n",
    "    ('E103', 'mike103', 'mik103'),\n",
    "    ('E104', 'emie104', 'emi104'),\n",
    "    ('E105', 'sare105', 'sar105'),\n",
    "    ('E106', 'mice106', 'mic106'),\n",
    "    ('E107', 'mice107', 'mic107'),\n",
    "    ('E108', 'jese108', 'jes108'),\n",
    "    ('E109', 'dane109', 'dan109'),\n",
    "    ('E110', 'laue110', 'lau110'),\n",
    "    ('E111', 'chre111', 'chr111')\n",
    "]\n",
    "\n",
    "# Insert hashed passwords\n",
    "for emp_id, username, password in employees:\n",
    "    hashed_password = pwd_context.hash(password)\n",
    "    cursor.execute(\"UPDATE employees SET user_name = %s, password_hash = %s WHERE emp_id = %s\", \n",
    "                   (username, hashed_password, emp_id))\n",
    "\n",
    "conn.commit()\n",
    "cursor.close()\n",
    "conn.close()\n"
   ]
  }
 ],
 "metadata": {
  "kernelspec": {
   "display_name": "env_auc",
   "language": "python",
   "name": "python3"
  },
  "language_info": {
   "codemirror_mode": {
    "name": "ipython",
    "version": 3
   },
   "file_extension": ".py",
   "mimetype": "text/x-python",
   "name": "python",
   "nbconvert_exporter": "python",
   "pygments_lexer": "ipython3",
   "version": "3.10.15"
  }
 },
 "nbformat": 4,
 "nbformat_minor": 2
}
